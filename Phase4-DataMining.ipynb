{
 "cells": [
  {
   "cell_type": "markdown",
   "metadata": {},
   "source": [
    "# Phase 4: Data Mining"
   ]
  },
  {
   "cell_type": "markdown",
   "metadata": {},
   "source": [
    "## Imports"
   ]
  },
  {
   "cell_type": "code",
   "execution_count": 349,
   "metadata": {},
   "outputs": [],
   "source": [
    "from cProfile import label\n",
    "from itertools import count\n",
    "from statistics import mean\n",
    "from turtle import color\n",
    "import numpy as np\n",
    "import pandas as pd\n",
    "import matplotlib.pyplot as plt\n",
    "import seaborn as sns\n",
    "from sklearn import metrics, tree\n",
    "from sklearn.ensemble import GradientBoostingClassifier, RandomForestClassifier\n",
    "from sklearn.impute import SimpleImputer\n",
    "from sklearn.model_selection import train_test_split, cross_val_score, cross_validate, GroupKFold, StratifiedGroupKFold, LeavePGroupsOut\n",
    "import psycopg2\n",
    "from sklearn.feature_selection import SelectKBest, f_classif\n",
    "from sklearn.preprocessing import LabelEncoder, MinMaxScaler\n",
    "from sklearn.tree import DecisionTreeClassifier\n",
    "from sqlalchemy import create_engine"
   ]
  },
  {
   "cell_type": "markdown",
   "metadata": {},
   "source": [
    "## Helper Functions"
   ]
  },
  {
   "cell_type": "code",
   "execution_count": 350,
   "metadata": {},
   "outputs": [],
   "source": [
    "# Country Codes List\n",
    "country_codes = ['CAN', 'USA', 'MEX', 'IRN', 'THA', 'UKR', 'CAF', 'TCD', 'MLI']\n",
    "\n",
    "# Countries organized by development label\n",
    "countries_by_class_label = {\n",
    "      'developed': ['CAN', 'USA'],\n",
    "      'developing': ['MEX', 'IRN', 'THA', 'UKR'],\n",
    "      'underdeveloped': ['CAF', 'TCD', 'MLI']\n",
    "}\n",
    "\n",
    "def get_country_development_class(country_code):\n",
    "      if country_code in countries_by_class_label['developed']:\n",
    "            return \"developed\"\n",
    "      elif country_code in countries_by_class_label['developing']:\n",
    "            return \"developing\"\n",
    "      elif country_code in countries_by_class_label['underdeveloped']:\n",
    "            return \"underdeveloped\"\n",
    "      else:\n",
    "            return np.NaN\n",
    "\n",
    "def get_country_shape(country_code):\n",
    "      if country_code in countries_by_class_label['developed']:\n",
    "            return \"s\"\n",
    "      elif country_code in countries_by_class_label['developing']:\n",
    "            return \"o\"\n",
    "      else:\n",
    "            return \"^\"\n",
    "      \n",
    "def get_country_color(country_code):\n",
    "      if country_code in countries_by_class_label['developed']:\n",
    "            return \"limegreen\"\n",
    "      elif country_code in countries_by_class_label['developing']:\n",
    "            return \"gold\"\n",
    "      else:\n",
    "            return \"red\""
   ]
  },
  {
   "cell_type": "markdown",
   "metadata": {},
   "source": [
    "## Pulling Data from Dart Mart (PostgreSQL)"
   ]
  },
  {
   "cell_type": "code",
   "execution_count": 351,
   "metadata": {},
   "outputs": [],
   "source": [
    "# SQL query to pull data from Postgres for data mining\n",
    "query_pull_data = '''\n",
    "SELECT DISTINCT \n",
    "       C.country_code, D.year_, \n",
    "       F.quality_of_life_index, F.human_development_index, F.income_index,\n",
    "       C.total_population, C.population_growth, C.gdp_constant_2015, C.gdp_growth,\n",
    "       ED.literacy_rate, ED.government_expenditure_on_education,\n",
    "       H.birth_rate, H.death_rate, H.capital_health_expenditure, H.prevalence_of_overweight_female, H.prevalence_of_overweight_male, H.prevalence_of_hypertension_female, H.prevalence_of_hypertension_male,\n",
    "       P.life_expectancy_female, P.life_expectancy_male, P.life_expectancy, P.net_migration, P.labor_force_total, P.unemployment_rate,\n",
    "       LV.access_electricity, LV.coverage_social_insurance_programs, LV.access_to_fuels_for_cooking\n",
    "FROM \"CSI4142\".fact_table as F, \"CSI4142\".country as C, \"CSI4142\".date_ as D, \"CSI4142\".education as ED, \"CSI4142\".health as H, \"CSI4142\".living_conditions as LV, \"CSI4142\".population_ as P\n",
    "WHERE F.country_surrogate=C.surrogate_key AND\n",
    "      F.date_surrogate=D.surrogate_key AND\n",
    "      F.education_surrogate=ED.surrogate_key AND\n",
    "      F.health_surrogate=H.surrogate_key AND\n",
    "      F.living_conditions_surrogate=LV.surrogate_key AND\n",
    "      F.population_surrogate=P.surrogate_key\n",
    "ORDER BY C.country_code, D.year_\n",
    ";\n",
    "'''\n",
    "\n",
    "# Pull data into dataframe\n",
    "db_engine = create_engine('postgresql+psycopg2://bazzadev@localhost/bazzadev')\n",
    "raw_data = pd.read_sql_query(query_pull_data, db_engine)"
   ]
  },
  {
   "cell_type": "markdown",
   "metadata": {},
   "source": [
    "## Data Summarization"
   ]
  },
  {
   "cell_type": "code",
   "execution_count": 352,
   "metadata": {},
   "outputs": [],
   "source": [
    "def get_country_color(country_code):\n",
    "      if country_code in countries_by_class_label['developed']:\n",
    "            return \"limegreen\"\n",
    "      elif country_code in countries_by_class_label['developing']:\n",
    "            return \"gold\"\n",
    "      else:\n",
    "            return \"red\"\n",
    "\n",
    "def boxplot_1(df):\n",
    "      # fig = plt.figure()\n",
    "      # ax = fig.add_subplot(111)\n",
    "      plt.boxplot(\n",
    "            [df[df['country_code']==code]['quality_of_life_index'] for code in country_codes], \n",
    "            labels=country_codes)\n",
    "      plt.show()\n",
    "\n",
    "def plot_1(df):\n",
    "      countries = {}\n",
    "      for code in country_codes:\n",
    "          country_data = df[df['country_code']==code]\n",
    "          countries[code] = country_data\n",
    "          plt.plot(country_data['year_'], country_data['labor_force_total'], label=code)\n",
    "      \n",
    "      plt.legend(loc='lower left')\n",
    "      plt.show()\n",
    "\n",
    "def scatter_1(df):\n",
    "      countries = {}\n",
    "      for code in country_codes:\n",
    "          country_data = df[df['country_code']==code]\n",
    "          countries[code] = country_data\n",
    "          plt.scatter(country_data['human_development_index'], country_data['total_population'], label=code, marker=get_country_shape(code))\n",
    "      \n",
    "      plt.legend(loc='upper left')\n",
    "      plt.show()\n",
    "\n",
    "def hist_1(df):\n",
    "      df.hist(bins=10)\n",
    "      plt.show()"
   ]
  },
  {
   "cell_type": "code",
   "execution_count": 353,
   "metadata": {},
   "outputs": [
    {
     "ename": "KeyError",
     "evalue": "'country_code'",
     "output_type": "error",
     "traceback": [
      "\u001b[0;31m---------------------------------------------------------------------------\u001b[0m",
      "\u001b[0;31mKeyError\u001b[0m                                  Traceback (most recent call last)",
      "File \u001b[0;32m~/.pyenv/versions/3.10.2/lib/python3.10/site-packages/pandas/core/indexes/base.py:3621\u001b[0m, in \u001b[0;36mIndex.get_loc\u001b[0;34m(self, key, method, tolerance)\u001b[0m\n\u001b[1;32m   <a href='file:///Users/bazzadev/.pyenv/versions/3.10.2/lib/python3.10/site-packages/pandas/core/indexes/base.py?line=3619'>3620</a>\u001b[0m \u001b[39mtry\u001b[39;00m:\n\u001b[0;32m-> <a href='file:///Users/bazzadev/.pyenv/versions/3.10.2/lib/python3.10/site-packages/pandas/core/indexes/base.py?line=3620'>3621</a>\u001b[0m     \u001b[39mreturn\u001b[39;00m \u001b[39mself\u001b[39;49m\u001b[39m.\u001b[39;49m_engine\u001b[39m.\u001b[39;49mget_loc(casted_key)\n\u001b[1;32m   <a href='file:///Users/bazzadev/.pyenv/versions/3.10.2/lib/python3.10/site-packages/pandas/core/indexes/base.py?line=3621'>3622</a>\u001b[0m \u001b[39mexcept\u001b[39;00m \u001b[39mKeyError\u001b[39;00m \u001b[39mas\u001b[39;00m err:\n",
      "File \u001b[0;32mpandas/_libs/index.pyx:136\u001b[0m, in \u001b[0;36mpandas._libs.index.IndexEngine.get_loc\u001b[0;34m()\u001b[0m\n",
      "File \u001b[0;32mpandas/_libs/index.pyx:163\u001b[0m, in \u001b[0;36mpandas._libs.index.IndexEngine.get_loc\u001b[0;34m()\u001b[0m\n",
      "File \u001b[0;32mpandas/_libs/hashtable_class_helper.pxi:5198\u001b[0m, in \u001b[0;36mpandas._libs.hashtable.PyObjectHashTable.get_item\u001b[0;34m()\u001b[0m\n",
      "File \u001b[0;32mpandas/_libs/hashtable_class_helper.pxi:5206\u001b[0m, in \u001b[0;36mpandas._libs.hashtable.PyObjectHashTable.get_item\u001b[0;34m()\u001b[0m\n",
      "\u001b[0;31mKeyError\u001b[0m: 'country_code'",
      "\nThe above exception was the direct cause of the following exception:\n",
      "\u001b[0;31mKeyError\u001b[0m                                  Traceback (most recent call last)",
      "\u001b[1;32m/Users/bazzadev/Repositories/bazzadev/CSI4142-Project/Phase4-DataMining.ipynb Cell 10'\u001b[0m in \u001b[0;36m<cell line: 1>\u001b[0;34m()\u001b[0m\n\u001b[0;32m----> <a href='vscode-notebook-cell:/Users/bazzadev/Repositories/bazzadev/CSI4142-Project/Phase4-DataMining.ipynb#ch0000009?line=0'>1</a>\u001b[0m boxplot_1(df)\n\u001b[1;32m      <a href='vscode-notebook-cell:/Users/bazzadev/Repositories/bazzadev/CSI4142-Project/Phase4-DataMining.ipynb#ch0000009?line=1'>2</a>\u001b[0m plot_1(df)\n\u001b[1;32m      <a href='vscode-notebook-cell:/Users/bazzadev/Repositories/bazzadev/CSI4142-Project/Phase4-DataMining.ipynb#ch0000009?line=2'>3</a>\u001b[0m scatter_1(df)\n",
      "\u001b[1;32m/Users/bazzadev/Repositories/bazzadev/CSI4142-Project/Phase4-DataMining.ipynb Cell 9'\u001b[0m in \u001b[0;36mboxplot_1\u001b[0;34m(df)\u001b[0m\n\u001b[1;32m      <a href='vscode-notebook-cell:/Users/bazzadev/Repositories/bazzadev/CSI4142-Project/Phase4-DataMining.ipynb#ch0000008?line=8'>9</a>\u001b[0m \u001b[39mdef\u001b[39;00m \u001b[39mboxplot_1\u001b[39m(df):\n\u001b[1;32m     <a href='vscode-notebook-cell:/Users/bazzadev/Repositories/bazzadev/CSI4142-Project/Phase4-DataMining.ipynb#ch0000008?line=9'>10</a>\u001b[0m       \u001b[39m# fig = plt.figure()\u001b[39;00m\n\u001b[1;32m     <a href='vscode-notebook-cell:/Users/bazzadev/Repositories/bazzadev/CSI4142-Project/Phase4-DataMining.ipynb#ch0000008?line=10'>11</a>\u001b[0m       \u001b[39m# ax = fig.add_subplot(111)\u001b[39;00m\n\u001b[1;32m     <a href='vscode-notebook-cell:/Users/bazzadev/Repositories/bazzadev/CSI4142-Project/Phase4-DataMining.ipynb#ch0000008?line=11'>12</a>\u001b[0m       plt\u001b[39m.\u001b[39mboxplot(\n\u001b[0;32m---> <a href='vscode-notebook-cell:/Users/bazzadev/Repositories/bazzadev/CSI4142-Project/Phase4-DataMining.ipynb#ch0000008?line=12'>13</a>\u001b[0m             [df[df[\u001b[39m'\u001b[39m\u001b[39mcountry_code\u001b[39m\u001b[39m'\u001b[39m]\u001b[39m==\u001b[39mcode][\u001b[39m'\u001b[39m\u001b[39mquality_of_life_index\u001b[39m\u001b[39m'\u001b[39m] \u001b[39mfor\u001b[39;00m code \u001b[39min\u001b[39;00m country_codes], \n\u001b[1;32m     <a href='vscode-notebook-cell:/Users/bazzadev/Repositories/bazzadev/CSI4142-Project/Phase4-DataMining.ipynb#ch0000008?line=13'>14</a>\u001b[0m             labels\u001b[39m=\u001b[39mcountry_codes)\n\u001b[1;32m     <a href='vscode-notebook-cell:/Users/bazzadev/Repositories/bazzadev/CSI4142-Project/Phase4-DataMining.ipynb#ch0000008?line=14'>15</a>\u001b[0m       plt\u001b[39m.\u001b[39mshow()\n",
      "\u001b[1;32m/Users/bazzadev/Repositories/bazzadev/CSI4142-Project/Phase4-DataMining.ipynb Cell 9'\u001b[0m in \u001b[0;36m<listcomp>\u001b[0;34m(.0)\u001b[0m\n\u001b[1;32m      <a href='vscode-notebook-cell:/Users/bazzadev/Repositories/bazzadev/CSI4142-Project/Phase4-DataMining.ipynb#ch0000008?line=8'>9</a>\u001b[0m \u001b[39mdef\u001b[39;00m \u001b[39mboxplot_1\u001b[39m(df):\n\u001b[1;32m     <a href='vscode-notebook-cell:/Users/bazzadev/Repositories/bazzadev/CSI4142-Project/Phase4-DataMining.ipynb#ch0000008?line=9'>10</a>\u001b[0m       \u001b[39m# fig = plt.figure()\u001b[39;00m\n\u001b[1;32m     <a href='vscode-notebook-cell:/Users/bazzadev/Repositories/bazzadev/CSI4142-Project/Phase4-DataMining.ipynb#ch0000008?line=10'>11</a>\u001b[0m       \u001b[39m# ax = fig.add_subplot(111)\u001b[39;00m\n\u001b[1;32m     <a href='vscode-notebook-cell:/Users/bazzadev/Repositories/bazzadev/CSI4142-Project/Phase4-DataMining.ipynb#ch0000008?line=11'>12</a>\u001b[0m       plt\u001b[39m.\u001b[39mboxplot(\n\u001b[0;32m---> <a href='vscode-notebook-cell:/Users/bazzadev/Repositories/bazzadev/CSI4142-Project/Phase4-DataMining.ipynb#ch0000008?line=12'>13</a>\u001b[0m             [df[df[\u001b[39m'\u001b[39;49m\u001b[39mcountry_code\u001b[39;49m\u001b[39m'\u001b[39;49m]\u001b[39m==\u001b[39mcode][\u001b[39m'\u001b[39m\u001b[39mquality_of_life_index\u001b[39m\u001b[39m'\u001b[39m] \u001b[39mfor\u001b[39;00m code \u001b[39min\u001b[39;00m country_codes], \n\u001b[1;32m     <a href='vscode-notebook-cell:/Users/bazzadev/Repositories/bazzadev/CSI4142-Project/Phase4-DataMining.ipynb#ch0000008?line=13'>14</a>\u001b[0m             labels\u001b[39m=\u001b[39mcountry_codes)\n\u001b[1;32m     <a href='vscode-notebook-cell:/Users/bazzadev/Repositories/bazzadev/CSI4142-Project/Phase4-DataMining.ipynb#ch0000008?line=14'>15</a>\u001b[0m       plt\u001b[39m.\u001b[39mshow()\n",
      "File \u001b[0;32m~/.pyenv/versions/3.10.2/lib/python3.10/site-packages/pandas/core/frame.py:3505\u001b[0m, in \u001b[0;36mDataFrame.__getitem__\u001b[0;34m(self, key)\u001b[0m\n\u001b[1;32m   <a href='file:///Users/bazzadev/.pyenv/versions/3.10.2/lib/python3.10/site-packages/pandas/core/frame.py?line=3502'>3503</a>\u001b[0m \u001b[39mif\u001b[39;00m \u001b[39mself\u001b[39m\u001b[39m.\u001b[39mcolumns\u001b[39m.\u001b[39mnlevels \u001b[39m>\u001b[39m \u001b[39m1\u001b[39m:\n\u001b[1;32m   <a href='file:///Users/bazzadev/.pyenv/versions/3.10.2/lib/python3.10/site-packages/pandas/core/frame.py?line=3503'>3504</a>\u001b[0m     \u001b[39mreturn\u001b[39;00m \u001b[39mself\u001b[39m\u001b[39m.\u001b[39m_getitem_multilevel(key)\n\u001b[0;32m-> <a href='file:///Users/bazzadev/.pyenv/versions/3.10.2/lib/python3.10/site-packages/pandas/core/frame.py?line=3504'>3505</a>\u001b[0m indexer \u001b[39m=\u001b[39m \u001b[39mself\u001b[39;49m\u001b[39m.\u001b[39;49mcolumns\u001b[39m.\u001b[39;49mget_loc(key)\n\u001b[1;32m   <a href='file:///Users/bazzadev/.pyenv/versions/3.10.2/lib/python3.10/site-packages/pandas/core/frame.py?line=3505'>3506</a>\u001b[0m \u001b[39mif\u001b[39;00m is_integer(indexer):\n\u001b[1;32m   <a href='file:///Users/bazzadev/.pyenv/versions/3.10.2/lib/python3.10/site-packages/pandas/core/frame.py?line=3506'>3507</a>\u001b[0m     indexer \u001b[39m=\u001b[39m [indexer]\n",
      "File \u001b[0;32m~/.pyenv/versions/3.10.2/lib/python3.10/site-packages/pandas/core/indexes/base.py:3623\u001b[0m, in \u001b[0;36mIndex.get_loc\u001b[0;34m(self, key, method, tolerance)\u001b[0m\n\u001b[1;32m   <a href='file:///Users/bazzadev/.pyenv/versions/3.10.2/lib/python3.10/site-packages/pandas/core/indexes/base.py?line=3620'>3621</a>\u001b[0m     \u001b[39mreturn\u001b[39;00m \u001b[39mself\u001b[39m\u001b[39m.\u001b[39m_engine\u001b[39m.\u001b[39mget_loc(casted_key)\n\u001b[1;32m   <a href='file:///Users/bazzadev/.pyenv/versions/3.10.2/lib/python3.10/site-packages/pandas/core/indexes/base.py?line=3621'>3622</a>\u001b[0m \u001b[39mexcept\u001b[39;00m \u001b[39mKeyError\u001b[39;00m \u001b[39mas\u001b[39;00m err:\n\u001b[0;32m-> <a href='file:///Users/bazzadev/.pyenv/versions/3.10.2/lib/python3.10/site-packages/pandas/core/indexes/base.py?line=3622'>3623</a>\u001b[0m     \u001b[39mraise\u001b[39;00m \u001b[39mKeyError\u001b[39;00m(key) \u001b[39mfrom\u001b[39;00m \u001b[39merr\u001b[39;00m\n\u001b[1;32m   <a href='file:///Users/bazzadev/.pyenv/versions/3.10.2/lib/python3.10/site-packages/pandas/core/indexes/base.py?line=3623'>3624</a>\u001b[0m \u001b[39mexcept\u001b[39;00m \u001b[39mTypeError\u001b[39;00m:\n\u001b[1;32m   <a href='file:///Users/bazzadev/.pyenv/versions/3.10.2/lib/python3.10/site-packages/pandas/core/indexes/base.py?line=3624'>3625</a>\u001b[0m     \u001b[39m# If we have a listlike key, _check_indexing_error will raise\u001b[39;00m\n\u001b[1;32m   <a href='file:///Users/bazzadev/.pyenv/versions/3.10.2/lib/python3.10/site-packages/pandas/core/indexes/base.py?line=3625'>3626</a>\u001b[0m     \u001b[39m#  InvalidIndexError. Otherwise we fall through and re-raise\u001b[39;00m\n\u001b[1;32m   <a href='file:///Users/bazzadev/.pyenv/versions/3.10.2/lib/python3.10/site-packages/pandas/core/indexes/base.py?line=3626'>3627</a>\u001b[0m     \u001b[39m#  the TypeError.\u001b[39;00m\n\u001b[1;32m   <a href='file:///Users/bazzadev/.pyenv/versions/3.10.2/lib/python3.10/site-packages/pandas/core/indexes/base.py?line=3627'>3628</a>\u001b[0m     \u001b[39mself\u001b[39m\u001b[39m.\u001b[39m_check_indexing_error(key)\n",
      "\u001b[0;31mKeyError\u001b[0m: 'country_code'"
     ]
    }
   ],
   "source": [
    "boxplot_1(df)\n",
    "plot_1(df)\n",
    "scatter_1(df)\n",
    "hist_1(df)"
   ]
  },
  {
   "cell_type": "markdown",
   "metadata": {},
   "source": [
    "## Data Pre-processing"
   ]
  },
  {
   "cell_type": "code",
   "execution_count": 354,
   "metadata": {},
   "outputs": [
    {
     "name": "stdout",
     "output_type": "stream",
     "text": [
      "        year_  quality_of_life_index  human_development_index  income_index  \\\n",
      "0    0.000000               0.014950                 0.106017      0.062595   \n",
      "1    0.066667               0.024917                 0.114613      0.068702   \n",
      "2    0.133333               0.033223                 0.123209      0.073282   \n",
      "3    0.200000               0.041528                 0.131805      0.073282   \n",
      "4    0.266667               0.048173                 0.134670      0.076336   \n",
      "..        ...                    ...                      ...           ...   \n",
      "139  0.733333               0.988372                 0.994269      0.984733   \n",
      "140  0.800000               0.991694                 0.998567      0.989313   \n",
      "141  0.866667               0.993355                 0.998567      0.995420   \n",
      "142  0.933333               0.995017                 1.000000      1.000000   \n",
      "143  1.000000               0.995017                 1.000000      1.000000   \n",
      "\n",
      "     total_population  population_growth  gdp_constant_2015  gdp_growth  \\\n",
      "0            0.000000           0.615086           0.000011    0.694286   \n",
      "1            0.000245           0.613102           0.000015    0.766188   \n",
      "2            0.000490           0.605827           0.000019    0.763144   \n",
      "3            0.000722           0.573193           0.000021    0.715616   \n",
      "4            0.000919           0.507733           0.000030    0.837220   \n",
      "..                ...                ...                ...         ...   \n",
      "139          0.980297           0.332555           0.928698    0.709237   \n",
      "140          0.986597           0.311556           0.950364    0.720801   \n",
      "141          0.991870           0.287322           0.978844    0.733156   \n",
      "142          0.996454           0.271110           1.000000    0.717608   \n",
      "143          1.000000           0.247273           0.965951    0.614010   \n",
      "\n",
      "     literacy_rate  government_expenditure_on_education  ...  \\\n",
      "0         0.623071                             0.086546  ...   \n",
      "1         0.623071                             0.048836  ...   \n",
      "2         0.185946                             0.032659  ...   \n",
      "3         0.185946                             0.028953  ...   \n",
      "4         0.185946                             0.023319  ...   \n",
      "..             ...                                  ...  ...   \n",
      "139       0.623071                             0.425181  ...   \n",
      "140       0.623071                             0.425181  ...   \n",
      "141       0.623071                             0.425181  ...   \n",
      "142       0.623071                             0.425181  ...   \n",
      "143       0.623071                             0.425181  ...   \n",
      "\n",
      "     prevalence_of_hypertension_male  life_expectancy_female  \\\n",
      "0                           0.652015                0.000000   \n",
      "1                           0.652015                0.012033   \n",
      "2                           0.655678                0.026002   \n",
      "3                           0.655678                0.041148   \n",
      "4                           0.652015                0.057026   \n",
      "..                               ...                     ...   \n",
      "139                         0.347985                0.918908   \n",
      "140                         0.351648                0.918908   \n",
      "141                         0.355311                0.921523   \n",
      "142                         0.358974                0.926755   \n",
      "143                         0.376547                0.637094   \n",
      "\n",
      "     life_expectancy_male  life_expectancy  net_migration  labor_force_total  \\\n",
      "0                0.000000         0.000000       0.075143           0.000000   \n",
      "1                0.010082         0.011098       0.075143           0.000166   \n",
      "2                0.021671         0.023911       0.075143           0.000336   \n",
      "3                0.034603         0.037984       0.195467           0.000500   \n",
      "4                0.048575         0.052942       0.030100           0.000646   \n",
      "..                    ...              ...            ...                ...   \n",
      "139              0.893151         0.905917       0.890982           0.972564   \n",
      "140              0.893151         0.905917       0.890982           0.982028   \n",
      "141              0.895890         0.908597       0.195467           0.989553   \n",
      "142              0.898630         0.912586       0.195467           1.000000   \n",
      "143              0.604535         0.620944       0.195467           0.984109   \n",
      "\n",
      "     unemployment_rate  access_electricity  \\\n",
      "0             0.405436            0.027407   \n",
      "1             0.402755            0.029982   \n",
      "2             0.398809            0.036300   \n",
      "3             0.388682            0.026561   \n",
      "4             0.389948            0.045327   \n",
      "..                 ...                 ...   \n",
      "139           0.344006            1.000000   \n",
      "140           0.306031            1.000000   \n",
      "141           0.271780            1.000000   \n",
      "142           0.254654            1.000000   \n",
      "143           0.580789            0.706450   \n",
      "\n",
      "     coverage_social_insurance_programs  access_to_fuels_for_cooking  \n",
      "0                              0.541162                     0.001004  \n",
      "1                              0.541162                     0.001004  \n",
      "2                              0.541162                     0.001004  \n",
      "3                              0.541162                     0.001004  \n",
      "4                              0.541162                     0.000000  \n",
      "..                                  ...                          ...  \n",
      "139                            0.541162                     1.000000  \n",
      "140                            0.541162                     1.000000  \n",
      "141                            0.541162                     1.000000  \n",
      "142                            0.541162                     1.000000  \n",
      "143                            0.541162                     0.619162  \n",
      "\n",
      "[144 rows x 26 columns]\n",
      "0      2\n",
      "1      2\n",
      "2      2\n",
      "3      2\n",
      "4      2\n",
      "      ..\n",
      "139    0\n",
      "140    0\n",
      "141    0\n",
      "142    0\n",
      "143    0\n",
      "Name: development_class, Length: 144, dtype: int64\n"
     ]
    }
   ],
   "source": [
    "df = raw_data.copy(deep=True)\n",
    "\n",
    "df.fillna(method='pad', limit=3)\n",
    "df = df.fillna(method='bfill', limit=3)\n",
    "\n",
    "imp = SimpleImputer(missing_values=np.NaN, strategy='mean')\n",
    "\n",
    "imp_cols = df.columns.to_list()[1:]\n",
    "df[imp_cols] = pd.DataFrame(imp.fit_transform(df[imp_cols]))\n",
    "\n",
    "df['development_class'] = df.apply(\n",
    "      lambda row: get_country_development_class(row.country_code),\n",
    "      axis=1)\n",
    "\n",
    "df.insert(1, 'development_class', df.pop('development_class'))\n",
    "\n",
    "le = LabelEncoder()\n",
    "df['development_class'] = le.fit_transform(df['development_class'])\n",
    "\n",
    "group_country = df['country_code']\n",
    "\n",
    "df.pop('country_code')\n",
    "# df.pop('human_development_index')\n",
    "# df.pop('quality_of_life_index')\n",
    "# df.pop('income_index')\n",
    "\n",
    "# df = pd.get_dummies(df)\n",
    "\n",
    "feature_cols = df.columns.to_list()[1:]\n",
    "label = 'development_class'\n",
    "\n",
    "df[feature_cols] = pd.DataFrame(\n",
    "      MinMaxScaler().fit_transform(df[feature_cols]), \n",
    "      columns=feature_cols)\n",
    "\n",
    "X = df[feature_cols]\n",
    "y = df[label]\n",
    "\n",
    "# print(X)\n",
    "# print(y)"
   ]
  },
  {
   "cell_type": "markdown",
   "metadata": {},
   "source": [
    "## Classification\n",
    "\n",
    "We will be using cross validation to assess the accuracy, precision, and recall \n",
    "of the three models we'll be using.\n",
    "\n",
    "Specifically, we'll be using group $K$-fold cross validation to avoid training and\n",
    "testing on the same country in any given fold.\n",
    "\n",
    "First, we write a function which will conduct the cross-validation and performance\n",
    "assessment for a single model:\n"
   ]
  },
  {
   "cell_type": "code",
   "execution_count": null,
   "metadata": {},
   "outputs": [],
   "source": [
    "def cross_val(X, y, model, cv):\n",
    "      scores = []\n",
    "      \n",
    "      for train, test in cv.split(X, y, groups=group_country):\n",
    "            X_train, X_test = X.iloc[train], X.iloc[test]\n",
    "            y_train, y_test = y.iloc[train], y.iloc[test]\n",
    "            \n",
    "            # print(X_train)\n",
    "            \n",
    "            b = SelectKBest(f_classif, k=2)\n",
    "            b.fit(X_train, y_train)\n",
    "            best_features = X_train.columns[b.get_support()]\n",
    "            \n",
    "            X_train = X_train[best_features]\n",
    "            X_test = X_test[best_features]\n",
    "            \n",
    "            model.fit(X_train, y_train)\n",
    "            score = model.score(X_test, y_test)\n",
    "            scores.append(score)\n",
    "            \n",
    "            y_pred = model.predict(X_test)\n",
    "            \n",
    "            if score < 1:\n",
    "                  country = pd.Series(raw_data.iloc[y_test.index]['country_code'], name='Country Code')\n",
    "                  actual = pd.Series(y_test, name='Actual')\n",
    "                  predicted = pd.Series(y_pred, name='Predicted', index=actual.index)\n",
    "                  \n",
    "                  print( pd.concat([country, X_test, actual, predicted], axis=1) )\n",
    "                  \n",
    "                  metrics.ConfusionMatrixDisplay.from_predictions(le.inverse_transform(y_test), le.inverse_transform(y_pred), labels=le.classes_)\n",
    "                  plt.show()\n",
    "            \n",
    "            \n",
    "            \n",
    "      \n",
    "      print(\"Accuracy scores: \", scores)\n",
    "      print(f\"We have a mean accuracy of {np.mean(scores):.2f} and std of {np.std(scores):.2f}\\n\")\n",
    "      \n",
    "      # plt.xlabel(\"Predicted\")\n",
    "      # plt.xlabel(\"Observed\")\n",
    "      \n",
    "      # plt.show()\n",
    "      \n",
    "      \n",
    "      # scores = cross_validate(\n",
    "      #       model, \n",
    "      #       X, \n",
    "      #       y, \n",
    "      #       cv=cv, \n",
    "      #       groups=group_country, \n",
    "      #       scoring=['accuracy']\n",
    "      # )\n",
    "      \n",
    "      # scores_accuracy = scores['test_accuracy']\n",
    "      # accuracy_list = list(scores_accuracy.tolist())\n",
    "      \n",
    "      # print(\"Accuracy scores: \", accuracy_list)\n",
    "      # print(f\"We have a mean accuracy of {scores_accuracy.mean():.2f} and std of {scores_accuracy.std():.2f}\\n\")"
   ]
  },
  {
   "cell_type": "markdown",
   "metadata": {},
   "source": [
    "Now we can call this function on each of the three models we're using today -- those being:\n",
    "\n",
    "- Decision tree\n",
    "- Gradient boosting\n",
    "- Random forest"
   ]
  },
  {
   "cell_type": "markdown",
   "metadata": {},
   "source": [
    "\n",
    "### Sanity Tests - Training & Test Splits\n",
    "\n",
    "Before we get started, we can run some sanity tests to make sure group $k$-fold\n",
    "validation is splitting our dataset correctly (eg. we do not test on a country we\n",
    "have observed in the test set):"
   ]
  },
  {
   "cell_type": "code",
   "execution_count": null,
   "metadata": {},
   "outputs": [],
   "source": [
    "def run_sanity_tests():\n",
    "    cv = GroupKFold(n_splits=group_country.nunique())\n",
    "    # cv = LeavePGroupsOut(n_groups=group_country.nunique()-1)\n",
    "\n",
    "    for train, test in cv.split(X, y, groups=group_country):\n",
    "        X.insert(0, 'country_code', group_country.values)\n",
    "        # print(\"%s \\n %s\" % (train, test))\n",
    "        print(list(X['country_code'].iloc[train]))\n",
    "        print(list(X['country_code'].iloc[test]))\n",
    "        print()\n",
    "        X.pop('country_code')\n",
    "\n",
    "# run_sanity_tests()"
   ]
  },
  {
   "cell_type": "markdown",
   "metadata": {},
   "source": [
    "Now that we've done that, we'll run group $k$-fold cross validation for each of \n",
    "our classifiers to determine the better model:"
   ]
  },
  {
   "cell_type": "code",
   "execution_count": null,
   "metadata": {},
   "outputs": [],
   "source": [
    "cv = GroupKFold(n_splits=group_country.nunique())"
   ]
  },
  {
   "cell_type": "markdown",
   "metadata": {},
   "source": [
    "### Decision Tree"
   ]
  },
  {
   "cell_type": "code",
   "execution_count": null,
   "metadata": {},
   "outputs": [],
   "source": [
    "clf = DecisionTreeClassifier()\n",
    "cross_val(X, y, clf, cv)"
   ]
  },
  {
   "cell_type": "markdown",
   "metadata": {},
   "source": [
    "### Gradient Boosting"
   ]
  },
  {
   "cell_type": "code",
   "execution_count": null,
   "metadata": {},
   "outputs": [],
   "source": [
    "clf = GradientBoostingClassifier()\n",
    "cross_val(X, y, clf, cv)"
   ]
  },
  {
   "cell_type": "markdown",
   "metadata": {},
   "source": [
    "### Random Forest"
   ]
  },
  {
   "cell_type": "code",
   "execution_count": null,
   "metadata": {},
   "outputs": [],
   "source": [
    "clf = RandomForestClassifier()\n",
    "cross_val(X, y, clf, cv)"
   ]
  }
 ],
 "metadata": {
  "interpreter": {
   "hash": "f10c4dd213e2065bdce1c16c3f994c1e5227d817f059a5cf90a5fee18479d511"
  },
  "kernelspec": {
   "display_name": "Python 3.10.2 64-bit ('3.10.2')",
   "language": "python",
   "name": "python3"
  },
  "language_info": {
   "codemirror_mode": {
    "name": "ipython",
    "version": 3
   },
   "file_extension": ".py",
   "mimetype": "text/x-python",
   "name": "python",
   "nbconvert_exporter": "python",
   "pygments_lexer": "ipython3",
   "version": "3.10.2"
  },
  "orig_nbformat": 4
 },
 "nbformat": 4,
 "nbformat_minor": 2
}
