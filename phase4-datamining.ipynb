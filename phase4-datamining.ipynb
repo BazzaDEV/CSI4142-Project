{
 "cells": [
  {
   "cell_type": "markdown",
   "metadata": {},
   "source": [
    "# Phase 4: Data Mining"
   ]
  },
  {
   "cell_type": "markdown",
   "metadata": {},
   "source": [
    "## Imports, Helper Functions"
   ]
  },
  {
   "cell_type": "code",
   "execution_count": 2,
   "metadata": {},
   "outputs": [],
   "source": [
    "from cProfile import label\n",
    "from itertools import count\n",
    "from statistics import mean\n",
    "from turtle import color\n",
    "import numpy as np\n",
    "import pandas as pd\n",
    "import matplotlib.pyplot as plt\n",
    "from sklearn import metrics\n",
    "from sklearn.ensemble import GradientBoostingClassifier, RandomForestClassifier\n",
    "from sklearn.impute import SimpleImputer\n",
    "from sklearn.model_selection import train_test_split\n",
    "import psycopg2\n",
    "from sklearn.preprocessing import LabelEncoder, MinMaxScaler\n",
    "from sklearn.tree import DecisionTreeClassifier\n",
    "from sqlalchemy import create_engine\n",
    "\n",
    "country_codes = ['CAN', 'USA', 'MEX', 'IRN', 'THA', 'UKR', 'CAF', 'TCD', 'MLI']\n",
    "\n",
    "countries_by_class_label = {\n",
    "      'developed': ['CAN', 'USA'],\n",
    "      'developing': ['MEX', 'IRN', 'THA', 'UKR'],\n",
    "      'underdeveloped': ['CAF', 'TCD', 'MLI']\n",
    "}\n",
    "\n",
    "def get_country_development_class(country_code):\n",
    "      if country_code in countries_by_class_label['developed']:\n",
    "            return \"developed\"\n",
    "      elif country_code in countries_by_class_label['developing']:\n",
    "            return \"developing\"\n",
    "      elif country_code in countries_by_class_label['underdeveloped']:\n",
    "            return \"underdeveloped\"\n",
    "      else:\n",
    "            return np.NaN\n",
    "\n",
    "def get_country_shape(country_code):\n",
    "      if country_code in countries_by_class_label['developed']:\n",
    "            return \"s\"\n",
    "      elif country_code in countries_by_class_label['developing']:\n",
    "            return \"o\"\n",
    "      else:\n",
    "            return \"^\"\n",
    "      \n",
    "def get_country_color(country_code):\n",
    "      if country_code in countries_by_class_label['developed']:\n",
    "            return \"limegreen\"\n",
    "      elif country_code in countries_by_class_label['developing']:\n",
    "            return \"gold\"\n",
    "      else:\n",
    "            return \"red\""
   ]
  },
  {
   "cell_type": "markdown",
   "metadata": {},
   "source": [
    "## Pulling Data from Dart Mart (PostgreSQL)"
   ]
  },
  {
   "cell_type": "code",
   "execution_count": 3,
   "metadata": {},
   "outputs": [],
   "source": [
    "country_codes = ['CAN', 'USA', 'MEX', 'IRN', 'THA', 'UKR', 'CAF', 'TCD', 'MLI']\n",
    "\n",
    "# SQL query to pull data from Postgres for data mining\n",
    "query_pull_data = '''\n",
    "SELECT DISTINCT \n",
    "       C.country_code, D.year_, \n",
    "       F.quality_of_life_index, F.human_development_index, F.income_index,\n",
    "       C.total_population, C.population_growth, C.gdp_constant_2015, C.gdp_growth,\n",
    "       ED.literacy_rate, ED.government_expenditure_on_education,\n",
    "       H.birth_rate, H.death_rate, H.capital_health_expenditure, H.prevalence_of_overweight_female, H.prevalence_of_overweight_male, H.prevalence_of_hypertension_female, H.prevalence_of_hypertension_male,\n",
    "       P.life_expectancy_female, P.life_expectancy_male, P.life_expectancy, P.net_migration, P.labor_force_total, P.unemployment_rate,\n",
    "       LV.access_electricity, LV.coverage_social_insurance_programs, LV.access_to_fuels_for_cooking\n",
    "FROM \"CSI4142\".fact_table as F, \"CSI4142\".country as C, \"CSI4142\".date_ as D, \"CSI4142\".education as ED, \"CSI4142\".health as H, \"CSI4142\".living_conditions as LV, \"CSI4142\".population_ as P\n",
    "WHERE F.country_surrogate=C.surrogate_key AND\n",
    "      F.date_surrogate=D.surrogate_key AND\n",
    "      F.education_surrogate=ED.surrogate_key AND\n",
    "      F.health_surrogate=H.surrogate_key AND\n",
    "      F.living_conditions_surrogate=LV.surrogate_key AND\n",
    "      F.population_surrogate=P.surrogate_key\n",
    "ORDER BY C.country_code, D.year_\n",
    ";\n",
    "'''\n",
    "\n",
    "# Pull data into dataframe\n",
    "db_engine = create_engine('postgresql+psycopg2://bazzadev@localhost/bazzadev')\n",
    "df = pd.read_sql_query(query_pull_data, db_engine)"
   ]
  }
 ],
 "metadata": {
  "interpreter": {
   "hash": "f10c4dd213e2065bdce1c16c3f994c1e5227d817f059a5cf90a5fee18479d511"
  },
  "kernelspec": {
   "display_name": "Python 3.10.2 64-bit ('3.10.2')",
   "language": "python",
   "name": "python3"
  },
  "language_info": {
   "codemirror_mode": {
    "name": "ipython",
    "version": 3
   },
   "file_extension": ".py",
   "mimetype": "text/x-python",
   "name": "python",
   "nbconvert_exporter": "python",
   "pygments_lexer": "ipython3",
   "version": "3.10.2"
  },
  "orig_nbformat": 4
 },
 "nbformat": 4,
 "nbformat_minor": 2
}
